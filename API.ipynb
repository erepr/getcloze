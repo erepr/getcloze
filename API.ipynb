{
 "cells": [
  {
   "cell_type": "code",
   "execution_count": 110,
   "id": "2ab68a55",
   "metadata": {},
   "outputs": [],
   "source": [
    "import pandas as pd"
   ]
  },
  {
   "cell_type": "code",
   "execution_count": 113,
   "id": "292c2242",
   "metadata": {},
   "outputs": [
    {
     "data": {
      "text/html": [
       "<div>\n",
       "<style scoped>\n",
       "    .dataframe tbody tr th:only-of-type {\n",
       "        vertical-align: middle;\n",
       "    }\n",
       "\n",
       "    .dataframe tbody tr th {\n",
       "        vertical-align: top;\n",
       "    }\n",
       "\n",
       "    .dataframe thead th {\n",
       "        text-align: right;\n",
       "    }\n",
       "</style>\n",
       "<table border=\"1\" class=\"dataframe\">\n",
       "  <thead>\n",
       "    <tr style=\"text-align: right;\">\n",
       "      <th></th>\n",
       "      <th>Unnamed: 0</th>\n",
       "      <th>Sentence</th>\n",
       "    </tr>\n",
       "  </thead>\n",
       "  <tbody>\n",
       "    <tr>\n",
       "      <th>0</th>\n",
       "      <td>0</td>\n",
       "      <td>میرے حیرت انگیز بچے اور پوتے ہیں۔</td>\n",
       "    </tr>\n",
       "    <tr>\n",
       "      <th>1</th>\n",
       "      <td>1</td>\n",
       "      <td>میں اپنے کپڑے خود سلائی کر سکتا ہوں۔</td>\n",
       "    </tr>\n",
       "    <tr>\n",
       "      <th>2</th>\n",
       "      <td>2</td>\n",
       "      <td>مجھے کینسر تھا لیکن اب ختم ہو گیا ہے۔</td>\n",
       "    </tr>\n",
       "    <tr>\n",
       "      <th>3</th>\n",
       "      <td>3</td>\n",
       "      <td>میں ریٹائرڈ ہوں اور عظیم زندگی گزار رہا ہوں۔</td>\n",
       "    </tr>\n",
       "    <tr>\n",
       "      <th>4</th>\n",
       "      <td>4</td>\n",
       "      <td>میرے پاس اسمارٹ فون نہیں ہے۔</td>\n",
       "    </tr>\n",
       "    <tr>\n",
       "      <th>...</th>\n",
       "      <td>...</td>\n",
       "      <td>...</td>\n",
       "    </tr>\n",
       "    <tr>\n",
       "      <th>995</th>\n",
       "      <td>995</td>\n",
       "      <td>میرا نام جارج ہے۔</td>\n",
       "    </tr>\n",
       "    <tr>\n",
       "      <th>996</th>\n",
       "      <td>996</td>\n",
       "      <td>میرا پسندیدہ کھانا پپیتا ہے۔</td>\n",
       "    </tr>\n",
       "    <tr>\n",
       "      <th>997</th>\n",
       "      <td>997</td>\n",
       "      <td>میں کمپیوٹر پروگرامر بننے کا مطالعہ کر رہا ہوں۔</td>\n",
       "    </tr>\n",
       "    <tr>\n",
       "      <th>998</th>\n",
       "      <td>998</td>\n",
       "      <td>میری والدہ بہت روایتی ہیں جبکہ میں زیادہ آزاد ...</td>\n",
       "    </tr>\n",
       "    <tr>\n",
       "      <th>999</th>\n",
       "      <td>999</td>\n",
       "      <td>میری پسندیدہ موسیقی کی صنف ڈیتھ میٹل ہے۔</td>\n",
       "    </tr>\n",
       "  </tbody>\n",
       "</table>\n",
       "<p>1000 rows × 2 columns</p>\n",
       "</div>"
      ],
      "text/plain": [
       "     Unnamed: 0                                           Sentence\n",
       "0             0                  میرے حیرت انگیز بچے اور پوتے ہیں۔\n",
       "1             1               میں اپنے کپڑے خود سلائی کر سکتا ہوں۔\n",
       "2             2              مجھے کینسر تھا لیکن اب ختم ہو گیا ہے۔\n",
       "3             3       میں ریٹائرڈ ہوں اور عظیم زندگی گزار رہا ہوں۔\n",
       "4             4                       میرے پاس اسمارٹ فون نہیں ہے۔\n",
       "..          ...                                                ...\n",
       "995         995                                  میرا نام جارج ہے۔\n",
       "996         996                       میرا پسندیدہ کھانا پپیتا ہے۔\n",
       "997         997    میں کمپیوٹر پروگرامر بننے کا مطالعہ کر رہا ہوں۔\n",
       "998         998  میری والدہ بہت روایتی ہیں جبکہ میں زیادہ آزاد ...\n",
       "999         999           میری پسندیدہ موسیقی کی صنف ڈیتھ میٹل ہے۔\n",
       "\n",
       "[1000 rows x 2 columns]"
      ]
     },
     "execution_count": 113,
     "metadata": {},
     "output_type": "execute_result"
    }
   ],
   "source": [
    "df = pd.read_csv(\"Data/urdu_dataset.csv\")\n",
    "df"
   ]
  },
  {
   "cell_type": "code",
   "execution_count": 114,
   "id": "f6a97fdb",
   "metadata": {},
   "outputs": [],
   "source": [
    "import random\n",
    "\n",
    "language = {'urdu': 'Data/urdu_dataset.csv', \n",
    "        'russian': 'Data/russian_dataset.csv', \n",
    "        'persian': 'Data/persian_dataset.csv', \n",
    "        'indonesian': 'Data/indonesian_dataset.csv', \n",
    "        'turkish': 'Data/turkish_dataset.csv',\n",
    "        'korean': 'Data/korean_dataset.csv', \n",
    "        'arabic': 'Data/arabic_dataset.csv', \n",
    "        'mandarin': 'Data/mandarin_dataset.csv'}\n",
    "\n",
    "def payload(count, lang):\n",
    "    df = pd.read_csv(language[lang])\n",
    "    new_df = pd.read_csv(\"Data/dataset.csv\")\n",
    "    rnd = {'words': []}\n",
    "    for i in range(len(df)):\n",
    "        tmp = df[['Sentence']].iloc[i][0].split()\n",
    "        for i in range(len(tmp)):\n",
    "            rnd['words'].append(tmp[i])\n",
    "    word_list = df[['Sentence']].iloc[count][0].split()\n",
    "    number_of_words = len(word_list)\n",
    "    idx = random.randint(0, number_of_words)\n",
    "    new = df[['Sentence']].iloc[count][0].replace(word_list[idx], \"______\")\n",
    "    return {'cloze': new,\n",
    "           'og_text': new_df[['Sentence']].iloc[count][0],\n",
    "           'options': [random.choices(rnd['words'], k=3)],\n",
    "           'correct': word_list[idx]}"
   ]
  },
  {
   "cell_type": "code",
   "execution_count": 116,
   "id": "eb2866ca",
   "metadata": {},
   "outputs": [
    {
     "data": {
      "text/plain": [
       "{'cloze': 'اسمي ______',\n",
       " 'og_text': 'my name is george.',\n",
       " 'options': [['أنا', 'في', 'أتذكر']],\n",
       " 'correct': 'جورج.'}"
      ]
     },
     "execution_count": 116,
     "metadata": {},
     "output_type": "execute_result"
    }
   ],
   "source": [
    "payload(random.randint(0, len(df)), \"arabic\")"
   ]
  },
  {
   "cell_type": "code",
   "execution_count": null,
   "id": "34ae05ba",
   "metadata": {},
   "outputs": [],
   "source": []
  }
 ],
 "metadata": {
  "kernelspec": {
   "display_name": "Python 3",
   "language": "python",
   "name": "python3"
  },
  "language_info": {
   "codemirror_mode": {
    "name": "ipython",
    "version": 3
   },
   "file_extension": ".py",
   "mimetype": "text/x-python",
   "name": "python",
   "nbconvert_exporter": "python",
   "pygments_lexer": "ipython3",
   "version": "3.8.8"
  }
 },
 "nbformat": 4,
 "nbformat_minor": 5
}
