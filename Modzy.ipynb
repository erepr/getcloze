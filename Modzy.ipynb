{
 "cells": [
  {
   "cell_type": "code",
   "execution_count": 39,
   "id": "f43943c5",
   "metadata": {},
   "outputs": [],
   "source": [
    "import pandas as pd\n",
    "import numpy as np\n",
    "from modzy import ApiClient, error"
   ]
  },
  {
   "cell_type": "code",
   "execution_count": 40,
   "id": "c590dbf0",
   "metadata": {},
   "outputs": [],
   "source": [
    "API_URL = \"https://app.modzy.com/api\"\n",
    "API_KEY = \"\"\n",
    "client = ApiClient(base_url=API_URL, api_key=API_KEY)"
   ]
  },
  {
   "cell_type": "code",
   "execution_count": 41,
   "id": "d7ce960f",
   "metadata": {},
   "outputs": [],
   "source": [
    "auto_model_info = client.models.get_models(\"u54lgh7rag\")\n",
    "version = auto_model_info[0]['latestVersion']\n",
    "Id = auto_model_info[0]['modelId']"
   ]
  },
  {
   "cell_type": "code",
   "execution_count": 42,
   "id": "7914c786",
   "metadata": {},
   "outputs": [],
   "source": [
    "MODEL_ID = Id\n",
    "MODEL_VERSION = version\n",
    "INPUT_FILENAME = list(client.models.get_version_input_sample(MODEL_ID, MODEL_VERSION)[\"input\"][\"sources\"][\"0001\"].keys())[0]\n",
    "sources = {INPUT_FILENAME: \"Data/demo.txt\"}"
   ]
  },
  {
   "cell_type": "code",
   "execution_count": 43,
   "id": "cc3ae9ed",
   "metadata": {},
   "outputs": [],
   "source": [
    "def get_model_output(model_identifier, model_version, data_sources, explain=False):\n",
    "    job = client.jobs.submit_file(model_identifier, model_version, data_sources, explain)\n",
    "    result = client.results.block_until_complete(job, timeout=None)    \n",
    "    model_output = result.get_first_outputs()['results.json']\n",
    "    return model_output"
   ]
  },
  {
   "cell_type": "code",
   "execution_count": 44,
   "id": "3988582b",
   "metadata": {},
   "outputs": [
    {
     "name": "stdout",
     "output_type": "stream",
     "text": [
      "ApiObject({\n",
      "  \"text\": \"I have wonderful children and grandchildren.\\nI can make my own clothes.\\nI had cancer, but she's gone now.\\nI'm retired and I have a good life.\\nI don't have a smartphone.\\nMy father sold from house to house.\\nI have three dogs.\\nI'm in an open multi- affair.\\nI also have a walking dog business.\\nI'm an Olympic gold medalist.\\nI love Italian food and garlic bread.\"\n",
      "})\n"
     ]
    }
   ],
   "source": [
    "model_results = get_model_output(MODEL_ID, MODEL_VERSION, sources)\n",
    "print(model_results)"
   ]
  },
  {
   "cell_type": "code",
   "execution_count": 47,
   "id": "e5b8cc02",
   "metadata": {},
   "outputs": [
    {
     "data": {
      "text/plain": [
       "ApiObject({\n",
       "  \"text\": \"I have wonderful children and grandchildren.\\nI can make my own clothes.\\nI had cancer, but she's gone now.\\nI'm retired and I have a good life.\\nI don't have a smartphone.\\nMy father sold from house to house.\\nI have three dogs.\\nI'm in an open multi- affair.\\nI also have a walking dog business.\\nI'm an Olympic gold medalist.\\nI love Italian food and garlic bread.\"\n",
       "})"
      ]
     },
     "execution_count": 47,
     "metadata": {},
     "output_type": "execute_result"
    }
   ],
   "source": [
    "model_results"
   ]
  },
  {
   "cell_type": "code",
   "execution_count": 58,
   "id": "92421ce0",
   "metadata": {},
   "outputs": [
    {
     "data": {
      "text/plain": [
       "['I have wonderful children and grandchildren',\n",
       " '\\nI can make my own clothes',\n",
       " \"\\nI had cancer, but she's gone now\",\n",
       " \"\\nI'm retired and I have a good life\",\n",
       " \"\\nI don't have a smartphone\",\n",
       " '\\nMy father sold from house to house',\n",
       " '\\nI have three dogs',\n",
       " \"\\nI'm in an open multi- affair\",\n",
       " '\\nI also have a walking dog business',\n",
       " \"\\nI'm an Olympic gold medalist\",\n",
       " '\\nI love Italian food and garlic bread',\n",
       " '']"
      ]
     },
     "execution_count": 58,
     "metadata": {},
     "output_type": "execute_result"
    }
   ],
   "source": [
    "new = model_results['text'].split(\".\")\n",
    "new"
   ]
  },
  {
   "cell_type": "code",
   "execution_count": 59,
   "id": "38cfc0bd",
   "metadata": {},
   "outputs": [
    {
     "name": "stdout",
     "output_type": "stream",
     "text": [
      "I have wonderful children and grandchildren\n",
      "I can make my own clothes\n",
      "I had cancer, but she's gone now\n",
      "I'm retired and I have a good life\n",
      "I don't have a smartphone\n",
      "My father sold from house to house\n",
      "I have three dogs\n",
      "I'm in an open multi- affair\n",
      "I also have a walking dog business\n",
      "I'm an Olympic gold medalist\n",
      "I love Italian food and garlic bread\n",
      "\n"
     ]
    }
   ],
   "source": [
    "for i in range(len(new)):\n",
    "    print(new[i].strip())"
   ]
  },
  {
   "cell_type": "code",
   "execution_count": null,
   "id": "2c5e9a5b",
   "metadata": {},
   "outputs": [],
   "source": []
  }
 ],
 "metadata": {
  "kernelspec": {
   "display_name": "Python 3",
   "language": "python",
   "name": "python3"
  },
  "language_info": {
   "codemirror_mode": {
    "name": "ipython",
    "version": 3
   },
   "file_extension": ".py",
   "mimetype": "text/x-python",
   "name": "python",
   "nbconvert_exporter": "python",
   "pygments_lexer": "ipython3",
   "version": "3.8.8"
  }
 },
 "nbformat": 4,
 "nbformat_minor": 5
}
