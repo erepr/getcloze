{
 "cells": [
  {
   "cell_type": "code",
   "execution_count": 115,
   "id": "bc14c7c9",
   "metadata": {},
   "outputs": [
    {
     "data": {
      "text/html": [
       "<div>\n",
       "<style scoped>\n",
       "    .dataframe tbody tr th:only-of-type {\n",
       "        vertical-align: middle;\n",
       "    }\n",
       "\n",
       "    .dataframe tbody tr th {\n",
       "        vertical-align: top;\n",
       "    }\n",
       "\n",
       "    .dataframe thead th {\n",
       "        text-align: right;\n",
       "    }\n",
       "</style>\n",
       "<table border=\"1\" class=\"dataframe\">\n",
       "  <thead>\n",
       "    <tr style=\"text-align: right;\">\n",
       "      <th></th>\n",
       "      <th>Sentence</th>\n",
       "    </tr>\n",
       "  </thead>\n",
       "  <tbody>\n",
       "    <tr>\n",
       "      <th>0</th>\n",
       "      <td>i have amazing children and grandchildren.</td>\n",
       "    </tr>\n",
       "    <tr>\n",
       "      <th>1</th>\n",
       "      <td>i can sew my own clothes.</td>\n",
       "    </tr>\n",
       "    <tr>\n",
       "      <th>2</th>\n",
       "      <td>i had cancer but its gone now.</td>\n",
       "    </tr>\n",
       "    <tr>\n",
       "      <th>3</th>\n",
       "      <td>i am retired and living the great life.</td>\n",
       "    </tr>\n",
       "    <tr>\n",
       "      <th>4</th>\n",
       "      <td>i do not have a smartphone.</td>\n",
       "    </tr>\n",
       "    <tr>\n",
       "      <th>...</th>\n",
       "      <td>...</td>\n",
       "    </tr>\n",
       "    <tr>\n",
       "      <th>1995</th>\n",
       "      <td>i currently work for a watch dealer.</td>\n",
       "    </tr>\n",
       "    <tr>\n",
       "      <th>1996</th>\n",
       "      <td>i like to spend my money on cars.</td>\n",
       "    </tr>\n",
       "    <tr>\n",
       "      <th>1997</th>\n",
       "      <td>i have never had a steady relationship.</td>\n",
       "    </tr>\n",
       "    <tr>\n",
       "      <th>1998</th>\n",
       "      <td>i watch too much tv in spare time.</td>\n",
       "    </tr>\n",
       "    <tr>\n",
       "      <th>1999</th>\n",
       "      <td>i go to the gym most days just to socialize.</td>\n",
       "    </tr>\n",
       "  </tbody>\n",
       "</table>\n",
       "<p>2000 rows × 1 columns</p>\n",
       "</div>"
      ],
      "text/plain": [
       "                                          Sentence\n",
       "0       i have amazing children and grandchildren.\n",
       "1                        i can sew my own clothes.\n",
       "2                   i had cancer but its gone now.\n",
       "3          i am retired and living the great life.\n",
       "4                      i do not have a smartphone.\n",
       "...                                            ...\n",
       "1995          i currently work for a watch dealer.\n",
       "1996             i like to spend my money on cars.\n",
       "1997       i have never had a steady relationship.\n",
       "1998            i watch too much tv in spare time.\n",
       "1999  i go to the gym most days just to socialize.\n",
       "\n",
       "[2000 rows x 1 columns]"
      ]
     },
     "execution_count": 115,
     "metadata": {},
     "output_type": "execute_result"
    }
   ],
   "source": [
    "import pandas as pd\n",
    "\n",
    "df = pd.read_csv(\"Data/dataset.csv\")\n",
    "df[['Sentence']].iloc[:2000]"
   ]
  },
  {
   "cell_type": "code",
   "execution_count": 116,
   "id": "9c969e24",
   "metadata": {},
   "outputs": [],
   "source": [
    "import os\n",
    "os.environ[\"GOOGLE_APPLICATION_CREDENTIALS\"] = \"translation.json\""
   ]
  },
  {
   "cell_type": "code",
   "execution_count": 117,
   "id": "0f316d82",
   "metadata": {},
   "outputs": [],
   "source": [
    "translated = {'Sentence': []}"
   ]
  },
  {
   "cell_type": "code",
   "execution_count": 118,
   "id": "9aa19bc3",
   "metadata": {},
   "outputs": [],
   "source": [
    "def translate_text(target, text):\n",
    "\n",
    "    import six\n",
    "    from google.cloud import translate_v2 as translate\n",
    "\n",
    "    translate_client = translate.Client()\n",
    "\n",
    "    if isinstance(text, six.binary_type):\n",
    "        text = text.decode(\"utf-8\")\n",
    "\n",
    "    result = translate_client.translate(text, target_language=target)\n",
    "    main = format(result[\"translatedText\"])\n",
    "    translated[\"Sentence\"].append(main)"
   ]
  },
  {
   "cell_type": "code",
   "execution_count": 119,
   "id": "48a9bca0",
   "metadata": {},
   "outputs": [],
   "source": [
    "for i in range(1000):\n",
    "    #print(df[['Sentence']].iloc[i][0])\n",
    "    translate_text('zh-CN', df[['Sentence']].iloc[i][0])"
   ]
  },
  {
   "cell_type": "code",
   "execution_count": 120,
   "id": "6bb079ce",
   "metadata": {},
   "outputs": [
    {
     "data": {
      "text/html": [
       "<div>\n",
       "<style scoped>\n",
       "    .dataframe tbody tr th:only-of-type {\n",
       "        vertical-align: middle;\n",
       "    }\n",
       "\n",
       "    .dataframe tbody tr th {\n",
       "        vertical-align: top;\n",
       "    }\n",
       "\n",
       "    .dataframe thead th {\n",
       "        text-align: right;\n",
       "    }\n",
       "</style>\n",
       "<table border=\"1\" class=\"dataframe\">\n",
       "  <thead>\n",
       "    <tr style=\"text-align: right;\">\n",
       "      <th></th>\n",
       "      <th>Sentence</th>\n",
       "    </tr>\n",
       "  </thead>\n",
       "  <tbody>\n",
       "    <tr>\n",
       "      <th>0</th>\n",
       "      <td>我有很棒的孩子和孙子。</td>\n",
       "    </tr>\n",
       "    <tr>\n",
       "      <th>1</th>\n",
       "      <td>我可以自己缝衣服。</td>\n",
       "    </tr>\n",
       "    <tr>\n",
       "      <th>2</th>\n",
       "      <td>我得了癌症，但现在已经好了。</td>\n",
       "    </tr>\n",
       "    <tr>\n",
       "      <th>3</th>\n",
       "      <td>我退休了，过着美好的生活。</td>\n",
       "    </tr>\n",
       "    <tr>\n",
       "      <th>4</th>\n",
       "      <td>我没有智能手机。</td>\n",
       "    </tr>\n",
       "    <tr>\n",
       "      <th>...</th>\n",
       "      <td>...</td>\n",
       "    </tr>\n",
       "    <tr>\n",
       "      <th>995</th>\n",
       "      <td>我的名字是乔治。</td>\n",
       "    </tr>\n",
       "    <tr>\n",
       "      <th>996</th>\n",
       "      <td>我最喜欢的食物是木瓜。</td>\n",
       "    </tr>\n",
       "    <tr>\n",
       "      <th>997</th>\n",
       "      <td>我正在学习成为一名计算机程序员。</td>\n",
       "    </tr>\n",
       "    <tr>\n",
       "      <th>998</th>\n",
       "      <td>我妈妈很传统，而我更喜欢自由奔放。</td>\n",
       "    </tr>\n",
       "    <tr>\n",
       "      <th>999</th>\n",
       "      <td>我最喜欢的音乐类型是死亡金属。</td>\n",
       "    </tr>\n",
       "  </tbody>\n",
       "</table>\n",
       "<p>1000 rows × 1 columns</p>\n",
       "</div>"
      ],
      "text/plain": [
       "              Sentence\n",
       "0          我有很棒的孩子和孙子。\n",
       "1            我可以自己缝衣服。\n",
       "2       我得了癌症，但现在已经好了。\n",
       "3        我退休了，过着美好的生活。\n",
       "4             我没有智能手机。\n",
       "..                 ...\n",
       "995           我的名字是乔治。\n",
       "996        我最喜欢的食物是木瓜。\n",
       "997   我正在学习成为一名计算机程序员。\n",
       "998  我妈妈很传统，而我更喜欢自由奔放。\n",
       "999    我最喜欢的音乐类型是死亡金属。\n",
       "\n",
       "[1000 rows x 1 columns]"
      ]
     },
     "execution_count": 120,
     "metadata": {},
     "output_type": "execute_result"
    }
   ],
   "source": [
    "df = pd.DataFrame.from_dict(translated)\n",
    "df"
   ]
  },
  {
   "cell_type": "code",
   "execution_count": 121,
   "id": "05b0449d",
   "metadata": {},
   "outputs": [],
   "source": [
    "df.to_csv('Data/mandarin_dataset.csv')"
   ]
  },
  {
   "cell_type": "code",
   "execution_count": null,
   "id": "423e3927",
   "metadata": {},
   "outputs": [],
   "source": []
  }
 ],
 "metadata": {
  "kernelspec": {
   "display_name": "Python 3",
   "language": "python",
   "name": "python3"
  },
  "language_info": {
   "codemirror_mode": {
    "name": "ipython",
    "version": 3
   },
   "file_extension": ".py",
   "mimetype": "text/x-python",
   "name": "python",
   "nbconvert_exporter": "python",
   "pygments_lexer": "ipython3",
   "version": "3.8.8"
  }
 },
 "nbformat": 4,
 "nbformat_minor": 5
}
